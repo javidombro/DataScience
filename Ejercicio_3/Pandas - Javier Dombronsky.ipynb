{
 "metadata": {
  "language_info": {
   "codemirror_mode": {
    "name": "ipython",
    "version": 3
   },
   "file_extension": ".py",
   "mimetype": "text/x-python",
   "name": "python",
   "nbconvert_exporter": "python",
   "pygments_lexer": "ipython3",
   "version": "3.8.8"
  },
  "orig_nbformat": 2,
  "kernelspec": {
   "name": "python388jvsc74a57bd0f8dfefda13261b8ad209638d23fa991fe78f06a43b532e371779d63d6d7b72d7",
   "display_name": "Python 3.8.8 64-bit ('base': conda)"
  }
 },
 "nbformat": 4,
 "nbformat_minor": 2,
 "cells": [
  {
   "cell_type": "code",
   "execution_count": 93,
   "metadata": {},
   "outputs": [
    {
     "output_type": "execute_result",
     "data": {
      "text/plain": [
       "                  0          1          2                3               4   \\\n",
       "Year                                                                          \n",
       "1976-01-01  Montreal 1976-01-01   Aquatics           Diving  3m springboard   \n",
       "1976-01-01  Montreal 1976-01-01   Aquatics           Diving  3m springboard   \n",
       "1976-01-01  Montreal 1976-01-01   Aquatics           Diving  3m springboard   \n",
       "1976-01-01  Montreal 1976-01-01   Aquatics           Diving  3m springboard   \n",
       "1976-01-01  Montreal 1976-01-01   Aquatics           Diving    10m platform   \n",
       "...              ...        ...        ...              ...             ...   \n",
       "2008-01-01   Beijing 2008-01-01  Wrestling  Wrestling Gre-R       66 - 74kg   \n",
       "2008-01-01   Beijing 2008-01-01  Wrestling  Wrestling Gre-R       66 - 74kg   \n",
       "2008-01-01   Beijing 2008-01-01  Wrestling  Wrestling Gre-R       55 - 60kg   \n",
       "2008-01-01   Beijing 2008-01-01  Wrestling  Wrestling Gre-R       60 - 66kg   \n",
       "2008-01-01   Beijing 2008-01-01  Wrestling  Wrestling Gre-R      96 - 120kg   \n",
       "\n",
       "                                  5      6    7              8  9       10  \n",
       "Year                                                                        \n",
       "1976-01-01           K�HLER, Christa  Women  GDR   East Germany  W  Silver  \n",
       "1976-01-01       KOSENKOV, Aleksandr    Men  URS   Soviet Union  M  Bronze  \n",
       "1976-01-01      BOGGS, Philip George    Men  USA  United States  M    Gold  \n",
       "1976-01-01  CAGNOTTO, Giorgio Franco    Men  ITA          Italy  M  Silver  \n",
       "1976-01-01    WILSON, Deborah Keplar  Women  USA  United States  W  Bronze  \n",
       "...                              ...    ...  ...            ... ..     ...  \n",
       "2008-01-01        GUENOT, Christophe    Men  FRA         France  M  Bronze  \n",
       "2008-01-01       KVIRKELIA, Manuchar    Men  GEO        Georgia  M    Gold  \n",
       "2008-01-01          RAHIMOV, Vitaliy    Men  AZE     Azerbaijan  M  Silver  \n",
       "2008-01-01            GUENOT, Steeve    Men  FRA         France  M    Gold  \n",
       "2008-01-01             LOPEZ, Mijain    Men  CUB           Cuba  M    Gold  \n",
       "\n",
       "[15433 rows x 11 columns]"
      ],
      "text/html": "<div>\n<style scoped>\n    .dataframe tbody tr th:only-of-type {\n        vertical-align: middle;\n    }\n\n    .dataframe tbody tr th {\n        vertical-align: top;\n    }\n\n    .dataframe thead th {\n        text-align: right;\n    }\n</style>\n<table border=\"1\" class=\"dataframe\">\n  <thead>\n    <tr style=\"text-align: right;\">\n      <th></th>\n      <th>0</th>\n      <th>1</th>\n      <th>2</th>\n      <th>3</th>\n      <th>4</th>\n      <th>5</th>\n      <th>6</th>\n      <th>7</th>\n      <th>8</th>\n      <th>9</th>\n      <th>10</th>\n    </tr>\n    <tr>\n      <th>Year</th>\n      <th></th>\n      <th></th>\n      <th></th>\n      <th></th>\n      <th></th>\n      <th></th>\n      <th></th>\n      <th></th>\n      <th></th>\n      <th></th>\n      <th></th>\n    </tr>\n  </thead>\n  <tbody>\n    <tr>\n      <th>1976-01-01</th>\n      <td>Montreal</td>\n      <td>1976-01-01</td>\n      <td>Aquatics</td>\n      <td>Diving</td>\n      <td>3m springboard</td>\n      <td>K�HLER, Christa</td>\n      <td>Women</td>\n      <td>GDR</td>\n      <td>East Germany</td>\n      <td>W</td>\n      <td>Silver</td>\n    </tr>\n    <tr>\n      <th>1976-01-01</th>\n      <td>Montreal</td>\n      <td>1976-01-01</td>\n      <td>Aquatics</td>\n      <td>Diving</td>\n      <td>3m springboard</td>\n      <td>KOSENKOV, Aleksandr</td>\n      <td>Men</td>\n      <td>URS</td>\n      <td>Soviet Union</td>\n      <td>M</td>\n      <td>Bronze</td>\n    </tr>\n    <tr>\n      <th>1976-01-01</th>\n      <td>Montreal</td>\n      <td>1976-01-01</td>\n      <td>Aquatics</td>\n      <td>Diving</td>\n      <td>3m springboard</td>\n      <td>BOGGS, Philip George</td>\n      <td>Men</td>\n      <td>USA</td>\n      <td>United States</td>\n      <td>M</td>\n      <td>Gold</td>\n    </tr>\n    <tr>\n      <th>1976-01-01</th>\n      <td>Montreal</td>\n      <td>1976-01-01</td>\n      <td>Aquatics</td>\n      <td>Diving</td>\n      <td>3m springboard</td>\n      <td>CAGNOTTO, Giorgio Franco</td>\n      <td>Men</td>\n      <td>ITA</td>\n      <td>Italy</td>\n      <td>M</td>\n      <td>Silver</td>\n    </tr>\n    <tr>\n      <th>1976-01-01</th>\n      <td>Montreal</td>\n      <td>1976-01-01</td>\n      <td>Aquatics</td>\n      <td>Diving</td>\n      <td>10m platform</td>\n      <td>WILSON, Deborah Keplar</td>\n      <td>Women</td>\n      <td>USA</td>\n      <td>United States</td>\n      <td>W</td>\n      <td>Bronze</td>\n    </tr>\n    <tr>\n      <th>...</th>\n      <td>...</td>\n      <td>...</td>\n      <td>...</td>\n      <td>...</td>\n      <td>...</td>\n      <td>...</td>\n      <td>...</td>\n      <td>...</td>\n      <td>...</td>\n      <td>...</td>\n      <td>...</td>\n    </tr>\n    <tr>\n      <th>2008-01-01</th>\n      <td>Beijing</td>\n      <td>2008-01-01</td>\n      <td>Wrestling</td>\n      <td>Wrestling Gre-R</td>\n      <td>66 - 74kg</td>\n      <td>GUENOT, Christophe</td>\n      <td>Men</td>\n      <td>FRA</td>\n      <td>France</td>\n      <td>M</td>\n      <td>Bronze</td>\n    </tr>\n    <tr>\n      <th>2008-01-01</th>\n      <td>Beijing</td>\n      <td>2008-01-01</td>\n      <td>Wrestling</td>\n      <td>Wrestling Gre-R</td>\n      <td>66 - 74kg</td>\n      <td>KVIRKELIA, Manuchar</td>\n      <td>Men</td>\n      <td>GEO</td>\n      <td>Georgia</td>\n      <td>M</td>\n      <td>Gold</td>\n    </tr>\n    <tr>\n      <th>2008-01-01</th>\n      <td>Beijing</td>\n      <td>2008-01-01</td>\n      <td>Wrestling</td>\n      <td>Wrestling Gre-R</td>\n      <td>55 - 60kg</td>\n      <td>RAHIMOV, Vitaliy</td>\n      <td>Men</td>\n      <td>AZE</td>\n      <td>Azerbaijan</td>\n      <td>M</td>\n      <td>Silver</td>\n    </tr>\n    <tr>\n      <th>2008-01-01</th>\n      <td>Beijing</td>\n      <td>2008-01-01</td>\n      <td>Wrestling</td>\n      <td>Wrestling Gre-R</td>\n      <td>60 - 66kg</td>\n      <td>GUENOT, Steeve</td>\n      <td>Men</td>\n      <td>FRA</td>\n      <td>France</td>\n      <td>M</td>\n      <td>Gold</td>\n    </tr>\n    <tr>\n      <th>2008-01-01</th>\n      <td>Beijing</td>\n      <td>2008-01-01</td>\n      <td>Wrestling</td>\n      <td>Wrestling Gre-R</td>\n      <td>96 - 120kg</td>\n      <td>LOPEZ, Mijain</td>\n      <td>Men</td>\n      <td>CUB</td>\n      <td>Cuba</td>\n      <td>M</td>\n      <td>Gold</td>\n    </tr>\n  </tbody>\n</table>\n<p>15433 rows × 11 columns</p>\n</div>"
     },
     "metadata": {},
     "execution_count": 93
    }
   ],
   "source": [
    "#1. Con el archivo Summer-Olympic...csv, construir un objeto de series de tiempo con el índice igual al año de los juegos olímpicos\n",
    "import numpy\n",
    "import pandas\n",
    "\n",
    "olympics = pandas.read_csv('Summer-Olympic-medals-1976-to-2008.csv')\n",
    "olympics.Year = pandas.to_numeric(olympics.Year, downcast='integer') #Transformo el año a entero para luego poder convertir en dateTime\n",
    "olympics.Year = pandas.to_datetime(olympics.Year, format='%Y') #Convierto a dateTime\n",
    "df_olympics = pandas.DataFrame(olympics.values,index=olympics.Year)\n",
    "df_olympics"
   ]
  },
  {
   "cell_type": "code",
   "execution_count": 94,
   "metadata": {},
   "outputs": [
    {
     "output_type": "execute_result",
     "data": {
      "text/plain": [
       "           City       Year      Sport       Discipline           Event Gender  \\\n",
       "0      Montreal 1976-01-01   Aquatics           Diving  3m springboard  Women   \n",
       "1      Montreal 1976-01-01   Aquatics           Diving  3m springboard    Men   \n",
       "2      Montreal 1976-01-01   Aquatics           Diving  3m springboard    Men   \n",
       "3      Montreal 1976-01-01   Aquatics           Diving  3m springboard    Men   \n",
       "4      Montreal 1976-01-01   Aquatics           Diving    10m platform  Women   \n",
       "...         ...        ...        ...              ...             ...    ...   \n",
       "15428   Beijing 2008-01-01  Wrestling  Wrestling Gre-R       66 - 74kg    Men   \n",
       "15429   Beijing 2008-01-01  Wrestling  Wrestling Gre-R       66 - 74kg    Men   \n",
       "15430   Beijing 2008-01-01  Wrestling  Wrestling Gre-R       55 - 60kg    Men   \n",
       "15431   Beijing 2008-01-01  Wrestling  Wrestling Gre-R       60 - 66kg    Men   \n",
       "15432   Beijing 2008-01-01  Wrestling  Wrestling Gre-R      96 - 120kg    Men   \n",
       "\n",
       "      Country_Code        Country Event_gender   Medal   Lastname  \\\n",
       "0              GDR   East Germany            W  Silver     K�HLER   \n",
       "1              URS   Soviet Union            M  Bronze   KOSENKOV   \n",
       "2              USA  United States            M    Gold      BOGGS   \n",
       "3              ITA          Italy            M  Silver   CAGNOTTO   \n",
       "4              USA  United States            W  Bronze     WILSON   \n",
       "...            ...            ...          ...     ...        ...   \n",
       "15428          FRA         France            M  Bronze     GUENOT   \n",
       "15429          GEO        Georgia            M    Gold  KVIRKELIA   \n",
       "15430          AZE     Azerbaijan            M  Silver    RAHIMOV   \n",
       "15431          FRA         France            M    Gold     GUENOT   \n",
       "15432          CUB           Cuba            M    Gold      LOPEZ   \n",
       "\n",
       "             Firstname  \n",
       "0              Christa  \n",
       "1            Aleksandr  \n",
       "2        Philip George  \n",
       "3       Giorgio Franco  \n",
       "4       Deborah Keplar  \n",
       "...                ...  \n",
       "15428       Christophe  \n",
       "15429         Manuchar  \n",
       "15430          Vitaliy  \n",
       "15431           Steeve  \n",
       "15432           Mijain  \n",
       "\n",
       "[15433 rows x 12 columns]"
      ],
      "text/html": "<div>\n<style scoped>\n    .dataframe tbody tr th:only-of-type {\n        vertical-align: middle;\n    }\n\n    .dataframe tbody tr th {\n        vertical-align: top;\n    }\n\n    .dataframe thead th {\n        text-align: right;\n    }\n</style>\n<table border=\"1\" class=\"dataframe\">\n  <thead>\n    <tr style=\"text-align: right;\">\n      <th></th>\n      <th>City</th>\n      <th>Year</th>\n      <th>Sport</th>\n      <th>Discipline</th>\n      <th>Event</th>\n      <th>Gender</th>\n      <th>Country_Code</th>\n      <th>Country</th>\n      <th>Event_gender</th>\n      <th>Medal</th>\n      <th>Lastname</th>\n      <th>Firstname</th>\n    </tr>\n  </thead>\n  <tbody>\n    <tr>\n      <th>0</th>\n      <td>Montreal</td>\n      <td>1976-01-01</td>\n      <td>Aquatics</td>\n      <td>Diving</td>\n      <td>3m springboard</td>\n      <td>Women</td>\n      <td>GDR</td>\n      <td>East Germany</td>\n      <td>W</td>\n      <td>Silver</td>\n      <td>K�HLER</td>\n      <td>Christa</td>\n    </tr>\n    <tr>\n      <th>1</th>\n      <td>Montreal</td>\n      <td>1976-01-01</td>\n      <td>Aquatics</td>\n      <td>Diving</td>\n      <td>3m springboard</td>\n      <td>Men</td>\n      <td>URS</td>\n      <td>Soviet Union</td>\n      <td>M</td>\n      <td>Bronze</td>\n      <td>KOSENKOV</td>\n      <td>Aleksandr</td>\n    </tr>\n    <tr>\n      <th>2</th>\n      <td>Montreal</td>\n      <td>1976-01-01</td>\n      <td>Aquatics</td>\n      <td>Diving</td>\n      <td>3m springboard</td>\n      <td>Men</td>\n      <td>USA</td>\n      <td>United States</td>\n      <td>M</td>\n      <td>Gold</td>\n      <td>BOGGS</td>\n      <td>Philip George</td>\n    </tr>\n    <tr>\n      <th>3</th>\n      <td>Montreal</td>\n      <td>1976-01-01</td>\n      <td>Aquatics</td>\n      <td>Diving</td>\n      <td>3m springboard</td>\n      <td>Men</td>\n      <td>ITA</td>\n      <td>Italy</td>\n      <td>M</td>\n      <td>Silver</td>\n      <td>CAGNOTTO</td>\n      <td>Giorgio Franco</td>\n    </tr>\n    <tr>\n      <th>4</th>\n      <td>Montreal</td>\n      <td>1976-01-01</td>\n      <td>Aquatics</td>\n      <td>Diving</td>\n      <td>10m platform</td>\n      <td>Women</td>\n      <td>USA</td>\n      <td>United States</td>\n      <td>W</td>\n      <td>Bronze</td>\n      <td>WILSON</td>\n      <td>Deborah Keplar</td>\n    </tr>\n    <tr>\n      <th>...</th>\n      <td>...</td>\n      <td>...</td>\n      <td>...</td>\n      <td>...</td>\n      <td>...</td>\n      <td>...</td>\n      <td>...</td>\n      <td>...</td>\n      <td>...</td>\n      <td>...</td>\n      <td>...</td>\n      <td>...</td>\n    </tr>\n    <tr>\n      <th>15428</th>\n      <td>Beijing</td>\n      <td>2008-01-01</td>\n      <td>Wrestling</td>\n      <td>Wrestling Gre-R</td>\n      <td>66 - 74kg</td>\n      <td>Men</td>\n      <td>FRA</td>\n      <td>France</td>\n      <td>M</td>\n      <td>Bronze</td>\n      <td>GUENOT</td>\n      <td>Christophe</td>\n    </tr>\n    <tr>\n      <th>15429</th>\n      <td>Beijing</td>\n      <td>2008-01-01</td>\n      <td>Wrestling</td>\n      <td>Wrestling Gre-R</td>\n      <td>66 - 74kg</td>\n      <td>Men</td>\n      <td>GEO</td>\n      <td>Georgia</td>\n      <td>M</td>\n      <td>Gold</td>\n      <td>KVIRKELIA</td>\n      <td>Manuchar</td>\n    </tr>\n    <tr>\n      <th>15430</th>\n      <td>Beijing</td>\n      <td>2008-01-01</td>\n      <td>Wrestling</td>\n      <td>Wrestling Gre-R</td>\n      <td>55 - 60kg</td>\n      <td>Men</td>\n      <td>AZE</td>\n      <td>Azerbaijan</td>\n      <td>M</td>\n      <td>Silver</td>\n      <td>RAHIMOV</td>\n      <td>Vitaliy</td>\n    </tr>\n    <tr>\n      <th>15431</th>\n      <td>Beijing</td>\n      <td>2008-01-01</td>\n      <td>Wrestling</td>\n      <td>Wrestling Gre-R</td>\n      <td>60 - 66kg</td>\n      <td>Men</td>\n      <td>FRA</td>\n      <td>France</td>\n      <td>M</td>\n      <td>Gold</td>\n      <td>GUENOT</td>\n      <td>Steeve</td>\n    </tr>\n    <tr>\n      <th>15432</th>\n      <td>Beijing</td>\n      <td>2008-01-01</td>\n      <td>Wrestling</td>\n      <td>Wrestling Gre-R</td>\n      <td>96 - 120kg</td>\n      <td>Men</td>\n      <td>CUB</td>\n      <td>Cuba</td>\n      <td>M</td>\n      <td>Gold</td>\n      <td>LOPEZ</td>\n      <td>Mijain</td>\n    </tr>\n  </tbody>\n</table>\n<p>15433 rows × 12 columns</p>\n</div>"
     },
     "metadata": {},
     "execution_count": 94
    }
   ],
   "source": [
    "#2. Separar nombres de apellidos en dos columnas distintas usando la coma como separador\n",
    "olympics[['Lastname','Firstname']] = olympics.Athlete.str.split(',', 1,expand=True)\n",
    "olympics = olympics.drop(columns='Athlete')\n",
    "olympics"
   ]
  },
  {
   "cell_type": "code",
   "execution_count": 95,
   "metadata": {},
   "outputs": [
    {
     "output_type": "stream",
     "name": "stdout",
     "text": [
      "El pais que gano mas medallas es:\n"
     ]
    },
    {
     "output_type": "execute_result",
     "data": {
      "text/plain": [
       "'United States'"
      ]
     },
     "metadata": {},
     "execution_count": 95
    }
   ],
   "source": [
    "#3. Obtener medidas resumen del conjunto de datos. Cuál es el país que ganó más medallas?\n",
    "print(\"El pais que gano mas medallas es:\")\n",
    "olympics.Country.mode()[0]"
   ]
  },
  {
   "cell_type": "code",
   "execution_count": 98,
   "metadata": {},
   "outputs": [
    {
     "output_type": "execute_result",
     "data": {
      "text/plain": [
       "        Year  Medals\n",
       "0 2000-01-01    1126\n",
       "1 2008-01-01    1110\n",
       "2 1992-01-01    1105\n",
       "3 2004-01-01    1099\n",
       "4 1996-01-01    1082\n",
       "5 1988-01-01    1011\n",
       "6 1984-01-01     973\n",
       "7 1980-01-01     958\n",
       "8 1976-01-01     924"
      ],
      "text/html": "<div>\n<style scoped>\n    .dataframe tbody tr th:only-of-type {\n        vertical-align: middle;\n    }\n\n    .dataframe tbody tr th {\n        vertical-align: top;\n    }\n\n    .dataframe thead th {\n        text-align: right;\n    }\n</style>\n<table border=\"1\" class=\"dataframe\">\n  <thead>\n    <tr style=\"text-align: right;\">\n      <th></th>\n      <th>Year</th>\n      <th>Medals</th>\n    </tr>\n  </thead>\n  <tbody>\n    <tr>\n      <th>0</th>\n      <td>2000-01-01</td>\n      <td>1126</td>\n    </tr>\n    <tr>\n      <th>1</th>\n      <td>2008-01-01</td>\n      <td>1110</td>\n    </tr>\n    <tr>\n      <th>2</th>\n      <td>1992-01-01</td>\n      <td>1105</td>\n    </tr>\n    <tr>\n      <th>3</th>\n      <td>2004-01-01</td>\n      <td>1099</td>\n    </tr>\n    <tr>\n      <th>4</th>\n      <td>1996-01-01</td>\n      <td>1082</td>\n    </tr>\n    <tr>\n      <th>5</th>\n      <td>1988-01-01</td>\n      <td>1011</td>\n    </tr>\n    <tr>\n      <th>6</th>\n      <td>1984-01-01</td>\n      <td>973</td>\n    </tr>\n    <tr>\n      <th>7</th>\n      <td>1980-01-01</td>\n      <td>958</td>\n    </tr>\n    <tr>\n      <th>8</th>\n      <td>1976-01-01</td>\n      <td>924</td>\n    </tr>\n  </tbody>\n</table>\n</div>"
     },
     "metadata": {},
     "execution_count": 98
    }
   ],
   "source": [
    "#4. Construir una tabla que muestre cuántas medallas obtuvieron los hombres en total en cada año que se realizó el evento.\n",
    "male_olympics = olympics.loc[olympics['Gender'] == 'Men'] #Keep only male athletes.\n",
    "male_medals_by_year = male_olympics.Year.value_counts()\n",
    "male_medals_by_year.rename_axis('Year').reset_index(name='Medals')"
   ]
  },
  {
   "cell_type": "code",
   "execution_count": null,
   "metadata": {},
   "outputs": [],
   "source": []
  }
 ]
}