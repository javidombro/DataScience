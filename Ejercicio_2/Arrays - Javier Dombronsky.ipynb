{
 "metadata": {
  "language_info": {
   "codemirror_mode": {
    "name": "ipython",
    "version": 3
   },
   "file_extension": ".py",
   "mimetype": "text/x-python",
   "name": "python",
   "nbconvert_exporter": "python",
   "pygments_lexer": "ipython3",
   "version": "3.9.1"
  },
  "orig_nbformat": 2,
  "kernelspec": {
   "name": "python391jvsc74a57bd0efcae89f86558b2e92a286af7a0b1169ee586979de64c339b610846fec50bfcd",
   "display_name": "Python 3.9.1 64-bit"
  },
  "metadata": {
   "interpreter": {
    "hash": "efcae89f86558b2e92a286af7a0b1169ee586979de64c339b610846fec50bfcd"
   }
  }
 },
 "nbformat": 4,
 "nbformat_minor": 2,
 "cells": [
  {
   "cell_type": "code",
   "execution_count": 14,
   "metadata": {},
   "outputs": [
    {
     "output_type": "stream",
     "name": "stdout",
     "text": [
      "[47 46 97 23 42 86 52 90 66 52 13 78 44 39 39 79 67 85 98 95 62 58 37 49\n 99  6  2 74 56  4  0 56 52 43 58 61 71 76 82 54 87  5  9 45 26 26 62 75\n 33 22 67 91 11 85 79 50 25 21 57 22 79 16 66 25 34 92 51 94 21 23 96 39\n 11  0 82 52 44 95 70 76 61 34  3 57 59 62  4  8 73 38 32 84 14 75 10 44\n 13 41 39 53]\nLa media es: \n50.06\n"
     ]
    }
   ],
   "source": [
    "import numpy\n",
    "\n",
    "#1. Generar un array aleatorio de 100 elementos. Calcular la mediana correspondiente.\n",
    "def media_of_random_array():\n",
    "    array = numpy.random.randint(100, size = 100)\n",
    "    print(array)\n",
    "    return array.mean()\n",
    "\n",
    "x = media_of_random_array()\n",
    "print(\"La mediana es: \")\n",
    "print(x)"
   ]
  },
  {
   "cell_type": "code",
   "execution_count": 10,
   "metadata": {},
   "outputs": [
    {
     "output_type": "stream",
     "name": "stdout",
     "text": [
      "no es posible hacer la descomposición factorial de números negativos\n40320\n15\nel primer parametro debe ser mayor al primero\n"
     ]
    }
   ],
   "source": [
    "#2 Recordar los ejercicios con funciones para cálculo de factorial y suma de serie de la Clase 02. \n",
    "# Repetir ambos ejercicios, pero ahora utilizar las nuevas operacionesaprendidas con los ndarrays.\n",
    "\n",
    "def factorial(x):\n",
    "    if(x < 0):\n",
    "        return \"no es posible hacer la descomposición factorial de números negativos\"\n",
    "    array = numpy.arange(1,x +1)\n",
    "    return array.prod()\n",
    "\n",
    "print(factorial(-3))\n",
    "print(factorial(8))\n",
    "\n",
    "def sumatoria(inicio,fin):\n",
    "    if(inicio > fin):\n",
    "        return \"el primer parametro debe ser mayor al primero\"\n",
    "    array = numpy.arange(inicio,fin + 1)\n",
    "    return array.sum()\n",
    "\n",
    "print(sumatoria(0,5))\n",
    "print(sumatoria(5,0))"
   ]
  },
  {
   "cell_type": "code",
   "execution_count": 24,
   "metadata": {},
   "outputs": [
    {
     "output_type": "stream",
     "name": "stdout",
     "text": [
      "La mediana es: \n97431.58041835121\nLa media es: \n80000.0\n"
     ]
    }
   ],
   "source": [
    "import pandas\n",
    "import numpy\n",
    "\n",
    "path = \"Salarios Openqube - 2020.02.csv\"\n",
    "salarios = pandas.read_csv(path)\n",
    "\n",
    "salarios_argentina = salarios[salarios[\"Estoy trabajando en\"] == \"Argentina\"].reset_index(drop=True).copy()\n",
    "salarios_netos = salarios_argentina['Salario mensual NETO (en tu moneda local)'].astype(\"str\").tolist()\n",
    "salarios_netos_validos = [float(x) for x in salarios_netos if x.isdigit() and len(x)>=3]\n",
    "salarios_netos_validos_array = numpy.asarray(salarios_netos_validos)\n",
    "print(\"La mediana es: \")\n",
    "print(salarios_netos_validos_array.mean())\n",
    "print(\"La media es: \")\n",
    "print(numpy.median(salarios_netos_validos_array))"
   ]
  },
  {
   "cell_type": "code",
   "execution_count": null,
   "metadata": {},
   "outputs": [],
   "source": [
    "sa"
   ]
  }
 ]
}